{
 "cells": [
  {
   "cell_type": "code",
   "execution_count": 1,
   "id": "0c21a39f",
   "metadata": {},
   "outputs": [],
   "source": [
    "import numpy as np\n",
    "import pandas as pd\n",
    "%matplotlib inline\n",
    "import matplotlib as mpl\n",
    "import matplotlib.pyplot as plt\n",
    "import tensorflow as tf\n",
    "from tensorflow import keras\n"
   ]
  },
  {
   "cell_type": "code",
   "execution_count": 2,
   "id": "0bc4c4c5",
   "metadata": {},
   "outputs": [],
   "source": [
    "import sklearn\n",
    "from sklearn.datasets import fetch_california_housing\n",
    "housing=fetch_california_housing()"
   ]
  },
  {
   "cell_type": "code",
   "execution_count": 8,
   "id": "1fbcef62",
   "metadata": {},
   "outputs": [
    {
     "name": "stdout",
     "output_type": "stream",
     "text": [
      "{'data': array([[   8.3252    ,   41.        ,    6.98412698, ...,    2.55555556,\n",
      "          37.88      , -122.23      ],\n",
      "       [   8.3014    ,   21.        ,    6.23813708, ...,    2.10984183,\n",
      "          37.86      , -122.22      ],\n",
      "       [   7.2574    ,   52.        ,    8.28813559, ...,    2.80225989,\n",
      "          37.85      , -122.24      ],\n",
      "       ...,\n",
      "       [   1.7       ,   17.        ,    5.20554273, ...,    2.3256351 ,\n",
      "          39.43      , -121.22      ],\n",
      "       [   1.8672    ,   18.        ,    5.32951289, ...,    2.12320917,\n",
      "          39.43      , -121.32      ],\n",
      "       [   2.3886    ,   16.        ,    5.25471698, ...,    2.61698113,\n",
      "          39.37      , -121.24      ]]), 'target': array([4.526, 3.585, 3.521, ..., 0.923, 0.847, 0.894]), 'frame': None, 'target_names': ['MedHouseVal'], 'feature_names': ['MedInc', 'HouseAge', 'AveRooms', 'AveBedrms', 'Population', 'AveOccup', 'Latitude', 'Longitude'], 'DESCR': '.. _california_housing_dataset:\\n\\nCalifornia Housing dataset\\n--------------------------\\n\\n**Data Set Characteristics:**\\n\\n    :Number of Instances: 20640\\n\\n    :Number of Attributes: 8 numeric, predictive attributes and the target\\n\\n    :Attribute Information:\\n        - MedInc        median income in block\\n        - HouseAge      median house age in block\\n        - AveRooms      average number of rooms\\n        - AveBedrms     average number of bedrooms\\n        - Population    block population\\n        - AveOccup      average house occupancy\\n        - Latitude      house block latitude\\n        - Longitude     house block longitude\\n\\n    :Missing Attribute Values: None\\n\\nThis dataset was obtained from the StatLib repository.\\nhttp://lib.stat.cmu.edu/datasets/\\n\\nThe target variable is the median house value for California districts.\\n\\nThis dataset was derived from the 1990 U.S. census, using one row per census\\nblock group. A block group is the smallest geographical unit for which the U.S.\\nCensus Bureau publishes sample data (a block group typically has a population\\nof 600 to 3,000 people).\\n\\nIt can be downloaded/loaded using the\\n:func:`sklearn.datasets.fetch_california_housing` function.\\n\\n.. topic:: References\\n\\n    - Pace, R. Kelley and Ronald Barry, Sparse Spatial Autoregressions,\\n      Statistics and Probability Letters, 33 (1997) 291-297\\n'}\n"
     ]
    }
   ],
   "source": [
    "#print(housing.feature_names)\n",
    "print(housing)"
   ]
  },
  {
   "cell_type": "code",
   "execution_count": 11,
   "id": "4df84082",
   "metadata": {},
   "outputs": [],
   "source": [
    "from sklearn.model_selection import train_test_split\n",
    "X_train_full,X_test,y_train_full,y_test=train_test_split(housing.data,housing.target,random_state=42) #here we are splitting \n",
    "# the complete data and target into train and test, such that train(first) gets 75% and test(second) gets 25%.\n",
    "X_train,X_valid,y_train,y_valid=train_test_split(X_train_full,y_train_full,random_state=42) #here we are splitting the \n",
    "# remaining data in X_train_full into X_train(75%) and X_valid(25%). Same for y_train_full."
   ]
  },
  {
   "cell_type": "code",
   "execution_count": 13,
   "id": "243fa12c",
   "metadata": {},
   "outputs": [],
   "source": [
    "from sklearn.preprocessing import StandardScaler\n",
    "scaler=StandardScaler()\n",
    "X_train=scaler.fit_transform(X_train)\n",
    "X_valid=scaler.transform(X_valid)\n",
    "X_test=scaler.transform(X_test)"
   ]
  },
  {
   "cell_type": "raw",
   "id": "ed1a20a0",
   "metadata": {},
   "source": []
  },
  {
   "cell_type": "code",
   "execution_count": 14,
   "id": "53a81c14",
   "metadata": {},
   "outputs": [
    {
     "data": {
      "text/plain": [
       "(11610, 8)"
      ]
     },
     "execution_count": 14,
     "metadata": {},
     "output_type": "execute_result"
    }
   ],
   "source": [
    "np.random.seed(42)\n",
    "tf.random.set_seed(42)\n",
    "X_train.shape"
   ]
  },
  {
   "cell_type": "code",
   "execution_count": 20,
   "id": "e867b1dc",
   "metadata": {},
   "outputs": [],
   "source": [
    "model=keras.models.Sequential([\n",
    "    keras.layers.Dense(30,activation=\"relu\",input_shape=[8]),\n",
    "    keras.layers.Dense(30,activation=\"relu\"),\n",
    "    keras.layers.Dense(1)\n",
    "])\n",
    "# keras.layers.Dense(300,activation=\"relu\",input_shape=X_train.shape[1:])\n",
    "# Incase we don't lnow the input_shape"
   ]
  },
  {
   "cell_type": "code",
   "execution_count": 21,
   "id": "53d7c540",
   "metadata": {},
   "outputs": [
    {
     "name": "stdout",
     "output_type": "stream",
     "text": [
      "Model: \"sequential_1\"\n",
      "_________________________________________________________________\n",
      "Layer (type)                 Output Shape              Param #   \n",
      "=================================================================\n",
      "dense_4 (Dense)              (None, 30)                270       \n",
      "_________________________________________________________________\n",
      "dense_5 (Dense)              (None, 30)                930       \n",
      "_________________________________________________________________\n",
      "dense_6 (Dense)              (None, 1)                 31        \n",
      "=================================================================\n",
      "Total params: 1,231\n",
      "Trainable params: 1,231\n",
      "Non-trainable params: 0\n",
      "_________________________________________________________________\n"
     ]
    }
   ],
   "source": [
    "model.summary()"
   ]
  },
  {
   "cell_type": "code",
   "execution_count": 22,
   "id": "ca9ca533",
   "metadata": {},
   "outputs": [],
   "source": [
    "model.compile(loss=\"mean_squared_error\",\n",
    "             optimizer=keras.optimizers.SGD(lr=1e-3),\n",
    "             metrics=['mae'])\n",
    "# mae=mean absolute error"
   ]
  },
  {
   "cell_type": "code",
   "execution_count": 23,
   "id": "c43b30fe",
   "metadata": {},
   "outputs": [
    {
     "name": "stdout",
     "output_type": "stream",
     "text": [
      "Epoch 1/20\n",
      "363/363 [==============================] - 0s 903us/step - loss: 1.8542 - mae: 0.9889 - val_loss: 1.3779 - val_mae: 0.7073\n",
      "Epoch 2/20\n",
      "363/363 [==============================] - 0s 617us/step - loss: 0.7854 - mae: 0.6648 - val_loss: 0.6885 - val_mae: 0.6238\n",
      "Epoch 3/20\n",
      "363/363 [==============================] - 0s 646us/step - loss: 0.6817 - mae: 0.6182 - val_loss: 0.6645 - val_mae: 0.5892\n",
      "Epoch 4/20\n",
      "363/363 [==============================] - 0s 600us/step - loss: 0.6283 - mae: 0.5894 - val_loss: 0.5944 - val_mae: 0.5685\n",
      "Epoch 5/20\n",
      "363/363 [==============================] - 0s 668us/step - loss: 0.5868 - mae: 0.5671 - val_loss: 0.5505 - val_mae: 0.5434\n",
      "Epoch 6/20\n",
      "363/363 [==============================] - 0s 657us/step - loss: 0.5510 - mae: 0.5486 - val_loss: 0.5211 - val_mae: 0.5268\n",
      "Epoch 7/20\n",
      "363/363 [==============================] - 0s 682us/step - loss: 0.5225 - mae: 0.5324 - val_loss: 0.5055 - val_mae: 0.5115\n",
      "Epoch 8/20\n",
      "363/363 [==============================] - 0s 595us/step - loss: 0.4993 - mae: 0.5192 - val_loss: 0.4648 - val_mae: 0.4966\n",
      "Epoch 9/20\n",
      "363/363 [==============================] - 0s 598us/step - loss: 0.4803 - mae: 0.5081 - val_loss: 0.4442 - val_mae: 0.4850\n",
      "Epoch 10/20\n",
      "363/363 [==============================] - 0s 597us/step - loss: 0.4649 - mae: 0.4985 - val_loss: 0.4304 - val_mae: 0.4750\n",
      "Epoch 11/20\n",
      "363/363 [==============================] - 0s 639us/step - loss: 0.4528 - mae: 0.4899 - val_loss: 0.4183 - val_mae: 0.4708\n",
      "Epoch 12/20\n",
      "363/363 [==============================] - 0s 602us/step - loss: 0.4425 - mae: 0.4837 - val_loss: 0.4100 - val_mae: 0.4632\n",
      "Epoch 13/20\n",
      "363/363 [==============================] - 0s 596us/step - loss: 0.4342 - mae: 0.4786 - val_loss: 0.4051 - val_mae: 0.4605\n",
      "Epoch 14/20\n",
      "363/363 [==============================] - 0s 687us/step - loss: 0.4269 - mae: 0.4731 - val_loss: 0.4001 - val_mae: 0.4572\n",
      "Epoch 15/20\n",
      "363/363 [==============================] - 0s 723us/step - loss: 0.4208 - mae: 0.4696 - val_loss: 0.3987 - val_mae: 0.4533\n",
      "Epoch 16/20\n",
      "363/363 [==============================] - 0s 684us/step - loss: 0.4154 - mae: 0.4662 - val_loss: 0.3908 - val_mae: 0.4498\n",
      "Epoch 17/20\n",
      "363/363 [==============================] - 0s 592us/step - loss: 0.4109 - mae: 0.4628 - val_loss: 0.4004 - val_mae: 0.4476\n",
      "Epoch 18/20\n",
      "363/363 [==============================] - 0s 642us/step - loss: 0.4070 - mae: 0.4601 - val_loss: 0.3939 - val_mae: 0.4442\n",
      "Epoch 19/20\n",
      "363/363 [==============================] - 0s 598us/step - loss: 0.4031 - mae: 0.4571 - val_loss: 0.3909 - val_mae: 0.4423\n",
      "Epoch 20/20\n",
      "363/363 [==============================] - 0s 642us/step - loss: 0.4002 - mae: 0.4550 - val_loss: 0.4167 - val_mae: 0.4461\n"
     ]
    }
   ],
   "source": [
    "model_history=model.fit(X_train,y_train,epochs=20,validation_data=(X_valid,y_valid))"
   ]
  },
  {
   "cell_type": "code",
   "execution_count": 24,
   "id": "6d470687",
   "metadata": {},
   "outputs": [
    {
     "name": "stdout",
     "output_type": "stream",
     "text": [
      "162/162 [==============================] - 0s 424us/step - loss: 0.3921 - mae: 0.4530\n"
     ]
    }
   ],
   "source": [
    "mae_test=model.evaluate(X_test,y_test)"
   ]
  },
  {
   "cell_type": "code",
   "execution_count": 25,
   "id": "6bfebcab",
   "metadata": {},
   "outputs": [
    {
     "data": {
      "text/plain": [
       "{'loss': [1.8542078733444214,\n",
       "  0.785382091999054,\n",
       "  0.6816678643226624,\n",
       "  0.6283110976219177,\n",
       "  0.5868017077445984,\n",
       "  0.5509713888168335,\n",
       "  0.5225090384483337,\n",
       "  0.4993252456188202,\n",
       "  0.480297327041626,\n",
       "  0.4649343490600586,\n",
       "  0.45277634263038635,\n",
       "  0.44250085949897766,\n",
       "  0.4341649115085602,\n",
       "  0.42694541811943054,\n",
       "  0.42081600427627563,\n",
       "  0.4154335558414459,\n",
       "  0.41089102625846863,\n",
       "  0.40700259804725647,\n",
       "  0.40306591987609863,\n",
       "  0.40015295147895813],\n",
       " 'mae': [0.9888760447502136,\n",
       "  0.6648111939430237,\n",
       "  0.6181755065917969,\n",
       "  0.589396595954895,\n",
       "  0.5670577883720398,\n",
       "  0.5485936403274536,\n",
       "  0.5324201583862305,\n",
       "  0.5192217230796814,\n",
       "  0.5080675482749939,\n",
       "  0.49851754307746887,\n",
       "  0.4899028539657593,\n",
       "  0.4836655855178833,\n",
       "  0.47857680916786194,\n",
       "  0.4731330871582031,\n",
       "  0.4695865213871002,\n",
       "  0.4662388563156128,\n",
       "  0.4627822935581207,\n",
       "  0.46007537841796875,\n",
       "  0.45713669061660767,\n",
       "  0.4550018310546875],\n",
       " 'val_loss': [1.3779263496398926,\n",
       "  0.6885382533073425,\n",
       "  0.6645382046699524,\n",
       "  0.5943530201911926,\n",
       "  0.5504515171051025,\n",
       "  0.5210919976234436,\n",
       "  0.5054589509963989,\n",
       "  0.46484747529029846,\n",
       "  0.4442475736141205,\n",
       "  0.4304138720035553,\n",
       "  0.41827136278152466,\n",
       "  0.4099987745285034,\n",
       "  0.40505844354629517,\n",
       "  0.4000949263572693,\n",
       "  0.3986598551273346,\n",
       "  0.39081624150276184,\n",
       "  0.40037834644317627,\n",
       "  0.39391887187957764,\n",
       "  0.3909194767475128,\n",
       "  0.41665133833885193],\n",
       " 'val_mae': [0.7073224186897278,\n",
       "  0.6238278746604919,\n",
       "  0.5892465710639954,\n",
       "  0.5684884190559387,\n",
       "  0.5434491634368896,\n",
       "  0.5267966985702515,\n",
       "  0.511532723903656,\n",
       "  0.4966062903404236,\n",
       "  0.4850172996520996,\n",
       "  0.47497403621673584,\n",
       "  0.47080153226852417,\n",
       "  0.4631933271884918,\n",
       "  0.4604825973510742,\n",
       "  0.4572332501411438,\n",
       "  0.45327574014663696,\n",
       "  0.4497552216053009,\n",
       "  0.44760069251060486,\n",
       "  0.4442499577999115,\n",
       "  0.44225916266441345,\n",
       "  0.4461382031440735]}"
      ]
     },
     "execution_count": 25,
     "metadata": {},
     "output_type": "execute_result"
    }
   ],
   "source": [
    "model_history.history"
   ]
  },
  {
   "cell_type": "code",
   "execution_count": 27,
   "id": "55bd7ac3",
   "metadata": {},
   "outputs": [
    {
     "data": {
      "image/png": "[encoded data removed]",
      "text/plain": [
       "<Figure size 576x360 with 1 Axes>"
      ]
     },
     "metadata": {
      "needs_background": "light"
     },
     "output_type": "display_data"
    }
   ],
   "source": [
    "pd.DataFrame(model_history.history).plot(figsize=(8,5))\n",
    "plt.grid(True)\n",
    "plt.gca().set_ylim(0,1)\n",
    "plt.show()"
   ]
  },
  {
   "cell_type": "code",
   "execution_count": 28,
   "id": "c3b03aac",
   "metadata": {},
   "outputs": [],
   "source": [
    "X_new=X_test[:5]"
   ]
  },
  {
   "cell_type": "code",
   "execution_count": 29,
   "id": "9dc45ed5",
   "metadata": {},
   "outputs": [
    {
     "name": "stdout",
     "output_type": "stream",
     "text": [
      "[[0.80196786]\n",
      " [1.7406121 ]\n",
      " [3.4323983 ]\n",
      " [2.6267586 ]\n",
      " [2.9058843 ]]\n",
      "[0.477   0.458   5.00001 2.186   2.78   ]\n"
     ]
    }
   ],
   "source": [
    "y_pred=model.predict(X_new)\n",
    "print(y_pred)\n",
    "print(y_test[:5])"
   ]
  },
  {
   "cell_type": "code",
   "execution_count": null,
   "id": "3436b5d2",
   "metadata": {},
   "outputs": [],
   "source": []
  }
 ],
 "metadata": {
  "kernelspec": {
   "display_name": "Python 3",
   "language": "python",
   "name": "python3"
  },
  "language_info": {
   "codemirror_mode": {
    "name": "ipython",
    "version": 3
   },
   "file_extension": ".py",
   "mimetype": "text/x-python",
   "name": "python",
   "nbconvert_exporter": "python",
   "pygments_lexer": "ipython3",
   "version": "3.8.10"
  }
 },
 "nbformat": 4,
 "nbformat_minor": 5
}
